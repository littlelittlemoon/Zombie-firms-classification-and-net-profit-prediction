{
 "cells": [
  {
   "cell_type": "markdown",
   "metadata": {},
   "source": [
    "# ZOMBIE FIRMS CLASSIFICATION"
   ]
  },
  {
   "cell_type": "code",
   "execution_count": 1,
   "metadata": {},
   "outputs": [],
   "source": [
    "%matplotlib inline\n",
    "\n",
    "# import warnings filter\n",
    "from warnings import simplefilter\n",
    "\n",
    "# ignore all future warnings\n",
    "simplefilter(action='ignore', category=FutureWarning)"
   ]
  },
  {
   "cell_type": "markdown",
   "metadata": {},
   "source": [
    "## Prepare util functions"
   ]
  },
  {
   "cell_type": "code",
   "execution_count": 2,
   "metadata": {},
   "outputs": [
    {
     "name": "stderr",
     "output_type": "stream",
     "text": [
      "/usr/local/lib/python3.7/site-packages/lightgbm/__init__.py:46: UserWarning: Starting from version 2.2.1, the library file in distribution wheels for macOS is built by the Apple Clang (Xcode_8.3.3) compiler.\n",
      "This means that in case of installing LightGBM from PyPI via the ``pip install lightgbm`` command, you don't need to install the gcc compiler anymore.\n",
      "Instead of that, you need to install the OpenMP library, which is required for running LightGBM on the system with the Apple Clang compiler.\n",
      "You can install the OpenMP library by the following command: ``brew install libomp``.\n",
      "  \"You can install the OpenMP library by the following command: ``brew install libomp``.\", UserWarning)\n"
     ]
    }
   ],
   "source": [
    "import lightgbm as lgb\n",
    "from sklearn import metrics\n",
    "\n",
    "def train_model(X_train, y_train, X_valid, y_valid, test=None, feature_cols=None, is_base=True):\n",
    "    if feature_cols is None:\n",
    "        feature_cols = X_train.columns.drop([\"行业\", \"区域\", \"企业类型\", \"控制人类型\"])\n",
    "        \n",
    "    dtrain = lgb.Dataset(X_train[feature_cols], label=y_train)\n",
    "    dvalid = lgb.Dataset(X_valid[feature_cols], label=y_valid)\n",
    "    \n",
    "    param = {'num_leaves': 64, 'objective': 'binary', \n",
    "             'metric': 'auc', 'seed': 7}\n",
    "    num_round = 1000\n",
    "    \n",
    "    print(\"Training model!\")\n",
    "    bst = lgb.train(param, dtrain, num_round, valid_sets=[dvalid], \n",
    "                    early_stopping_rounds=20, verbose_eval=False)\n",
    "    \n",
    "    valid_pred = bst.predict(X_valid[feature_cols])\n",
    "    valid_pred = valid_pred > 0.5  \n",
    "    valid_pred = valid_pred.astype(int)\n",
    "    valid_score = metrics.roc_auc_score(y_valid, valid_pred)\n",
    "    print(\"precision recall fscore support:\")\n",
    "    print(metrics.precision_recall_fscore_support(y_valid, valid_pred, average='micro'))\n",
    "    print(f\"Validation AUC score: {valid_score}\")\n",
    "    if test is not None: \n",
    "        test_pred = bst.predict(test[feature_cols])\n",
    "        test_pred = test_pred > 0.5  \n",
    "        test_pred = test_pred.astype(int)\n",
    "        \n",
    "        test_pred = test[['ID']].join(pd.DataFrame({'flag': test_pred}))\n",
    "        \n",
    "        if is_base:\n",
    "            test_pred.to_csv('test_base.txt', sep=',', index=False)\n",
    "        else:\n",
    "            test_pred.to_csv('test_.txt', sep=',', index=False)\n",
    "        return bst, valid_score\n",
    "    else:\n",
    "        return bst, valid_score"
   ]
  },
  {
   "cell_type": "markdown",
   "metadata": {},
   "source": [
    "## Load data"
   ]
  },
  {
   "cell_type": "code",
   "execution_count": 3,
   "metadata": {},
   "outputs": [
    {
     "data": {
      "text/plain": [
       "ID         7132\n",
       "注册时间         15\n",
       "注册资本        990\n",
       "行业            6\n",
       "区域            7\n",
       "企业类型          5\n",
       "控制人类型         2\n",
       "控制人持股比例      50\n",
       "dtype: int64"
      ]
     },
     "execution_count": 3,
     "metadata": {},
     "output_type": "execute_result"
    }
   ],
   "source": [
    "import pandas as pd\n",
    "\n",
    "# load training data\n",
    "all_data = pd.read_csv(\"data/train/train.csv\")\n",
    "\n",
    "# load testing data\n",
    "test = pd.read_csv(\"data/test/test.csv\")\n",
    "test_base = pd.read_csv(\"data/test/base-test.csv\")\n",
    "\n",
    "test.count()\n",
    "test_base.nunique()"
   ]
  },
  {
   "cell_type": "markdown",
   "metadata": {},
   "source": [
    "## Deal with Categorical Data"
   ]
  },
  {
   "cell_type": "markdown",
   "metadata": {},
   "source": [
    "#### Count Encoding for categorical variables"
   ]
  },
  {
   "cell_type": "code",
   "execution_count": 4,
   "metadata": {},
   "outputs": [],
   "source": [
    "from sklearn.preprocessing import OneHotEncoder, LabelEncoder\n",
    "from sklearn.model_selection import train_test_split\n",
    "import category_encoders as ce\n",
    "from sklearn.utils import shuffle\n",
    "\n",
    "all_data_X = all_data[all_data.columns.drop([\"flag\"])]\n",
    "all_data_y = all_data[\"flag\"]\n",
    "\n",
    "# shuffle data\n",
    "all_data_X, all_data_y = shuffle(all_data_X, all_data_y)\n",
    "# test = shuffle(test)\n",
    "\n",
    "train_X, valid_X, train_y, valid_y = train_test_split(all_data_X, all_data_y, random_state=66)"
   ]
  },
  {
   "cell_type": "code",
   "execution_count": 5,
   "metadata": {},
   "outputs": [],
   "source": [
    "cat_features = [\"行业\", \"区域\", \"企业类型\", \"控制人类型\"]\n",
    "count_enc = ce.CountEncoder(cols=cat_features)\n",
    "\n",
    "# Learn encoding from the training set\n",
    "count_enc.fit(train_X[cat_features])\n",
    "\n",
    "train_encoded_X = train_X.join(count_enc.transform(train_X[cat_features]).add_suffix(\"_count\"))\n",
    "valid_encoded_X = valid_X.join(count_enc.transform(valid_X[cat_features]).add_suffix(\"_count\"))\n",
    "test_encoded = test.join(count_enc.transform(test[cat_features]).add_suffix(\"_count\"))"
   ]
  },
  {
   "cell_type": "code",
   "execution_count": 6,
   "metadata": {},
   "outputs": [
    {
     "name": "stdout",
     "output_type": "stream",
     "text": [
      "Baseline model\n",
      "Training model!\n",
      "precision recall fscore support:\n",
      "(1.0, 1.0, 1.0, None)\n",
      "Validation AUC score: 1.0\n"
     ]
    }
   ],
   "source": [
    "print(\"Baseline model\")\n",
    "_ = train_model(train_X, train_y, valid_X, valid_y, test, is_base=True) # Validation AUC score: 0.999999380520901"
   ]
  },
  {
   "cell_type": "code",
   "execution_count": 7,
   "metadata": {},
   "outputs": [
    {
     "name": "stdout",
     "output_type": "stream",
     "text": [
      "Count Encoding model\n",
      "Training model!\n",
      "precision recall fscore support:\n",
      "(1.0, 1.0, 1.0, None)\n",
      "Validation AUC score: 1.0\n"
     ]
    }
   ],
   "source": [
    "print(\"Count Encoding model\")\n",
    "_ = train_model(train_encoded_X, train_y, valid_encoded_X, valid_y, test_encoded, is_base=False) # Validation AUC score: 0.9999996696111472"
   ]
  }
 ],
 "metadata": {
  "kernelspec": {
   "display_name": "Python 3",
   "language": "python",
   "name": "python3"
  },
  "language_info": {
   "codemirror_mode": {
    "name": "ipython",
    "version": 3
   },
   "file_extension": ".py",
   "mimetype": "text/x-python",
   "name": "python",
   "nbconvert_exporter": "python",
   "pygments_lexer": "ipython3",
   "version": "3.7.2"
  }
 },
 "nbformat": 4,
 "nbformat_minor": 1
}
